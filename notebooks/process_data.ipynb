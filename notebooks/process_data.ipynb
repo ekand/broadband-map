{
 "cells": [
  {
   "cell_type": "markdown",
   "metadata": {
    "collapsed": true,
    "pycharm": {
     "name": "#%% md\n"
    }
   },
   "source": [
    "# Processing the data\n"
   ]
  },
  {
   "cell_type": "code",
   "execution_count": 1,
   "metadata": {
    "pycharm": {
     "is_executing": false,
     "name": "#%%\n"
    }
   },
   "outputs": [
    {
     "name": "stdout",
     "output_type": "stream",
     "text": [
      "running: /Users/erik/broadband_access_research/broadband-map-experiment/src/get_max_speed_by_block_code.py\n"
     ]
    }
   ],
   "source": [
    "import pandas as pd\n",
    "import numpy as np\n",
    "\n",
    "# src is the local package. See README.md.\n",
    "from src import get_cook_county_fcc_data\n",
    "from src import get_max_speed_by_block_code\n",
    "from src import get_cook_county_block_code_map\n",
    "from src import combine_fastest_speed_with_map_data"
   ]
  },
  {
   "cell_type": "markdown",
   "metadata": {
    "pycharm": {
     "is_executing": false,
     "name": "#%% md\n"
    }
   },
   "source": [
    "The first step is to load the data from the fcc, which is a large file (~10 GB), so we will extract the part for\n",
    "cook county and save is as a .csv."
   ]
  },
  {
   "cell_type": "code",
   "execution_count": null,
   "metadata": {
    "pycharm": {
     "is_executing": false,
     "name": "#%%\n"
    }
   },
   "outputs": [],
   "source": [
    "df = get_cook_county_fcc_data.read_fcc_cook()\n",
    "get_cook_county_fcc_data.save_fcc_cook(df)\n"
   ]
  },
  {
   "cell_type": "markdown",
   "metadata": {
    "pycharm": {
     "name": "#%% md\n"
    }
   },
   "source": [
    "The next step is to extract those records in cook county which are consumer listings and save \n",
    "the fastest speed from each census block. (There are multiple records per block).  \n",
    "Note: it might be a good idea to refactor and separate the \"isolate cook county\" from\n",
    "the \"get max speeds\", so that it will be easier to insert other analysis into the process. "
   ]
  },
  {
   "cell_type": "code",
   "execution_count": null,
   "metadata": {
    "pycharm": {
     "is_executing": false,
     "name": "#%%\n"
    }
   },
   "outputs": [],
   "source": [
    "df = get_max_speed_by_block_code.load_cook_county()\n",
    "max_speed_by_block_code = get_max_speed_by_block_code.select_consumer(df)\n",
    "get_max_speed_by_block_code.save_max_speeds(max_speed_by_block_code)\n",
    "print('hello')"
   ]
  },
  {
   "cell_type": "markdown",
   "metadata": {
    "pycharm": {
     "name": "#%% md\n"
    }
   },
   "source": [
    "Meanwhile, I used a command line tool called org2ogr to convert the \n",
    "shapefiles in /data/raw/tl_2018_17_tabblock10/* into a geojson, \n",
    "which is saved as /data/raw/tl_2018_17_tabblock10.geojson.\n",
    "This file contains a listing of all the census block codes in Illinois.\n",
    "It is fairly large (750 MB), so we will extract just the cook county \n",
    "data from it."
   ]
  },
  {
   "cell_type": "code",
   "execution_count": null,
   "metadata": {
    "pycharm": {
     "is_executing": false,
     "name": "#%%\n"
    }
   },
   "outputs": [],
   "source": [
    "map_il = get_cook_county_block_code_map.load_block_codes()\n",
    "map_cook_county = get_cook_county_block_code_map.get_cook_county_codes(map_il)\n",
    "get_cook_county_block_code_map.save_cook_county_map(map_cook_county)"
   ]
  },
  {
   "cell_type": "markdown",
   "metadata": {
    "pycharm": {
     "name": "#%% md\n"
    }
   },
   "source": [
    "Next, combine the cook county speed by blockcode data with the\n",
    "cook county bloockcode map data. The result will be stored to \n",
    "a geojson file."
   ]
  },
  {
   "cell_type": "code",
   "execution_count": 2,
   "metadata": {
    "pycharm": {
     "is_executing": false,
     "name": "#%%\n"
    }
   },
   "outputs": [
    {
     "name": "stdout",
     "output_type": "stream",
     "text": [
      "tl_2018_17_tabblock10.geojson loaded as map_d\n",
      "max_speed_by_block_code.csv loaded as speed_by_block\n",
      "combining data complete\n",
      "writing to cook_county_map_with_top_speeds.geojson done\n"
     ]
    }
   ],
   "source": [
    "map_cook_county = combine_fastest_speed_with_map_data.load_cook_county_map()\n",
    "speeds = combine_fastest_speed_with_map_data.load_max_speeds()\n",
    "map_d = combine_fastest_speed_with_map_data.combine_map_and_speeds(map_cook_county, speeds)\n",
    "combine_fastest_speed_with_map_data.save_speed_map(map_d)"
   ]
  },
  {
   "cell_type": "markdown",
   "metadata": {
    "pycharm": {
     "name": "#%% md\n"
    }
   },
   "source": [
    "Now, this file is ready to be uploaded to Mapbox as a tyleset, where it \n",
    "will be displayed with the census blocks color coded according to\n",
    "their max available internet speed. \n"
   ]
  }
 ],
 "metadata": {
  "kernelspec": {
   "display_name": "Python 3",
   "language": "python",
   "name": "python3"
  },
  "language_info": {
   "codemirror_mode": {
    "name": "ipython",
    "version": 3
   },
   "file_extension": ".py",
   "mimetype": "text/x-python",
   "name": "python",
   "nbconvert_exporter": "python",
   "pygments_lexer": "ipython3",
   "version": "3.7.5"
  },
  "pycharm": {
   "stem_cell": {
    "cell_type": "raw",
    "metadata": {
     "collapsed": false
    },
    "source": []
   }
  }
 },
 "nbformat": 4,
 "nbformat_minor": 1
}
